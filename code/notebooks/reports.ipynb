{
 "cells": [
  {
   "cell_type": "markdown",
   "metadata": {},
   "source": [
    "# Report Generation from Actigraphy and GGIR outs"
   ]
  },
  {
   "cell_type": "code",
   "execution_count": 5,
   "metadata": {},
   "outputs": [],
   "source": [
    "import pandas as pd\n",
    "import numpy as np\n",
    "import matplotlib.pyplot as plt\n",
    "import seaborn as sb\n",
    "from fpdf import FPDF\n",
    "import actipy\n",
    "\n"
   ]
  },
  {
   "cell_type": "markdown",
   "metadata": {},
   "source": [
    "The following is an example from one subject"
   ]
  },
  {
   "cell_type": "code",
   "execution_count": 6,
   "metadata": {},
   "outputs": [
    {
     "data": {
      "text/html": [
       "<div>\n",
       "<style scoped>\n",
       "    .dataframe tbody tr th:only-of-type {\n",
       "        vertical-align: middle;\n",
       "    }\n",
       "\n",
       "    .dataframe tbody tr th {\n",
       "        vertical-align: top;\n",
       "    }\n",
       "\n",
       "    .dataframe thead th {\n",
       "        text-align: right;\n",
       "    }\n",
       "</style>\n",
       "<table border=\"1\" class=\"dataframe\">\n",
       "  <thead>\n",
       "    <tr style=\"text-align: right;\">\n",
       "      <th></th>\n",
       "      <th>False</th>\n",
       "      <th>Data Set</th>\n",
       "      <th>Subject Name</th>\n",
       "      <th>Serial Number</th>\n",
       "      <th>Details</th>\n",
       "      <th>Validated Data?</th>\n",
       "      <th>Log Diary</th>\n",
       "      <th>Weight (lbs)</th>\n",
       "      <th>Worn on Wrist?</th>\n",
       "      <th>Activity kcals</th>\n",
       "      <th>...</th>\n",
       "      <th>Vector Magnitude CPM</th>\n",
       "      <th>Steps Counts</th>\n",
       "      <th>Steps Average Counts</th>\n",
       "      <th>Steps Max Counts</th>\n",
       "      <th>Steps Per Minute</th>\n",
       "      <th>Lux Average Counts</th>\n",
       "      <th>Lux Max Counts</th>\n",
       "      <th>Number of Epochs</th>\n",
       "      <th>Time</th>\n",
       "      <th>Calendar Days</th>\n",
       "    </tr>\n",
       "  </thead>\n",
       "  <tbody>\n",
       "    <tr>\n",
       "      <th>3</th>\n",
       "      <td>True</td>\n",
       "      <td>498 (2015-07-21)60sec.agd</td>\n",
       "      <td>498</td>\n",
       "      <td>TAS1D51140038</td>\n",
       "      <td>Details...</td>\n",
       "      <td>Manual (9/23/2015)</td>\n",
       "      <td>None</td>\n",
       "      <td>155.0</td>\n",
       "      <td>True</td>\n",
       "      <td>12101.409</td>\n",
       "      <td>...</td>\n",
       "      <td>1925.1</td>\n",
       "      <td>188402.0</td>\n",
       "      <td>19.2</td>\n",
       "      <td>144.0</td>\n",
       "      <td>19.2</td>\n",
       "      <td>0.0</td>\n",
       "      <td>0.0</td>\n",
       "      <td>9838.0</td>\n",
       "      <td>6D 19H 58M 0S</td>\n",
       "      <td>7.0</td>\n",
       "    </tr>\n",
       "  </tbody>\n",
       "</table>\n",
       "<p>1 rows × 69 columns</p>\n",
       "</div>"
      ],
      "text/plain": [
       "  False                   Data Set Subject Name  Serial Number     Details  \\\n",
       "3  True  498 (2015-07-21)60sec.agd          498  TAS1D51140038  Details...   \n",
       "\n",
       "      Validated Data? Log Diary Weight (lbs) Worn on Wrist? Activity kcals  \\\n",
       "3  Manual (9/23/2015)      None        155.0           True      12101.409   \n",
       "\n",
       "   ... Vector Magnitude CPM Steps Counts Steps Average Counts  \\\n",
       "3  ...               1925.1     188402.0                 19.2   \n",
       "\n",
       "  Steps Max Counts Steps Per Minute Lux Average Counts Lux Max Counts  \\\n",
       "3            144.0             19.2                0.0            0.0   \n",
       "\n",
       "  Number of Epochs           Time Calendar Days  \n",
       "3           9838.0  6D 19H 58M 0S           7.0  \n",
       "\n",
       "[1 rows x 69 columns]"
      ]
     },
     "execution_count": 6,
     "metadata": {},
     "output_type": "execute_result"
    }
   ],
   "source": [
    "df = pd.read_csv('../../data/Activity-Report-VossLab.csv')\n",
    "sub = df.iloc[3]\n",
    "sub = pd.DataFrame(sub)\n",
    "sub = sub.T\n",
    "sub\n"
   ]
  },
  {
   "cell_type": "markdown",
   "metadata": {},
   "source": [
    "## What to Report\n",
    "- Total MVPA\n",
    "- Average MVPA\n",
    "- Total Vigorous\n",
    "- Average Vigorous\n",
    "- Total Moderate\n",
    "- Average Moderate\n",
    "- Total Light\n",
    "- Average Light\n",
    "- Total MET minutes\n",
    "- Average MET minutes\n",
    "- Total Sedentary time\n",
    "- Average sedentary time\n",
    "- Total Sleep\n",
    "- Average Sleep\n",
    "- Average RHR\n",
    "- Estimated VO2 Max"
   ]
  },
  {
   "cell_type": "markdown",
   "metadata": {},
   "source": [
    "#### Start Creating Graphs"
   ]
  },
  {
   "cell_type": "code",
   "execution_count": 7,
   "metadata": {},
   "outputs": [
    {
     "data": {
      "text/html": [
       "<div>\n",
       "<style scoped>\n",
       "    .dataframe tbody tr th:only-of-type {\n",
       "        vertical-align: middle;\n",
       "    }\n",
       "\n",
       "    .dataframe tbody tr th {\n",
       "        vertical-align: top;\n",
       "    }\n",
       "\n",
       "    .dataframe thead th {\n",
       "        text-align: right;\n",
       "    }\n",
       "</style>\n",
       "<table border=\"1\" class=\"dataframe\">\n",
       "  <thead>\n",
       "    <tr style=\"text-align: right;\">\n",
       "      <th></th>\n",
       "      <th>False</th>\n",
       "      <th>Data Set</th>\n",
       "      <th>Subject Name</th>\n",
       "      <th>Serial Number</th>\n",
       "      <th>Details</th>\n",
       "      <th>Validated Data?</th>\n",
       "      <th>Log Diary</th>\n",
       "      <th>Weight (lbs)</th>\n",
       "      <th>Worn on Wrist?</th>\n",
       "      <th>Activity kcals</th>\n",
       "      <th>...</th>\n",
       "      <th>Vector Magnitude CPM</th>\n",
       "      <th>Steps Counts</th>\n",
       "      <th>Steps Average Counts</th>\n",
       "      <th>Steps Max Counts</th>\n",
       "      <th>Steps Per Minute</th>\n",
       "      <th>Lux Average Counts</th>\n",
       "      <th>Lux Max Counts</th>\n",
       "      <th>Number of Epochs</th>\n",
       "      <th>Time</th>\n",
       "      <th>Calendar Days</th>\n",
       "    </tr>\n",
       "  </thead>\n",
       "  <tbody>\n",
       "    <tr>\n",
       "      <th>3</th>\n",
       "      <td>True</td>\n",
       "      <td>498 (2015-07-21)60sec.agd</td>\n",
       "      <td>498</td>\n",
       "      <td>TAS1D51140038</td>\n",
       "      <td>Details...</td>\n",
       "      <td>Manual (9/23/2015)</td>\n",
       "      <td>None</td>\n",
       "      <td>155.0</td>\n",
       "      <td>True</td>\n",
       "      <td>12101.409</td>\n",
       "      <td>...</td>\n",
       "      <td>1925.1</td>\n",
       "      <td>188402.0</td>\n",
       "      <td>19.2</td>\n",
       "      <td>144.0</td>\n",
       "      <td>19.2</td>\n",
       "      <td>0.0</td>\n",
       "      <td>0.0</td>\n",
       "      <td>9838.0</td>\n",
       "      <td>6D 19H 58M 0S</td>\n",
       "      <td>7.0</td>\n",
       "    </tr>\n",
       "  </tbody>\n",
       "</table>\n",
       "<p>1 rows × 69 columns</p>\n",
       "</div>"
      ],
      "text/plain": [
       "  False                   Data Set Subject Name  Serial Number     Details  \\\n",
       "3  True  498 (2015-07-21)60sec.agd          498  TAS1D51140038  Details...   \n",
       "\n",
       "      Validated Data? Log Diary Weight (lbs) Worn on Wrist? Activity kcals  \\\n",
       "3  Manual (9/23/2015)      None        155.0           True      12101.409   \n",
       "\n",
       "   ... Vector Magnitude CPM Steps Counts Steps Average Counts  \\\n",
       "3  ...               1925.1     188402.0                 19.2   \n",
       "\n",
       "  Steps Max Counts Steps Per Minute Lux Average Counts Lux Max Counts  \\\n",
       "3            144.0             19.2                0.0            0.0   \n",
       "\n",
       "  Number of Epochs           Time Calendar Days  \n",
       "3           9838.0  6D 19H 58M 0S           7.0  \n",
       "\n",
       "[1 rows x 69 columns]"
      ]
     },
     "execution_count": 7,
     "metadata": {},
     "output_type": "execute_result"
    }
   ],
   "source": [
    "sub\n",
    "\n"
   ]
  },
  {
   "cell_type": "code",
   "execution_count": 8,
   "metadata": {},
   "outputs": [
    {
     "data": {
      "text/html": [
       "<div>\n",
       "<style scoped>\n",
       "    .dataframe tbody tr th:only-of-type {\n",
       "        vertical-align: middle;\n",
       "    }\n",
       "\n",
       "    .dataframe tbody tr th {\n",
       "        vertical-align: top;\n",
       "    }\n",
       "\n",
       "    .dataframe thead th {\n",
       "        text-align: right;\n",
       "    }\n",
       "</style>\n",
       "<table border=\"1\" class=\"dataframe\">\n",
       "  <thead>\n",
       "    <tr style=\"text-align: right;\">\n",
       "      <th></th>\n",
       "      <th>Subject</th>\n",
       "      <th>Time</th>\n",
       "      <th>Calendar Days</th>\n",
       "      <th>Time in MVPA</th>\n",
       "      <th>Average MVPA Per Day</th>\n",
       "      <th>Time in Vigorous</th>\n",
       "      <th>% in Vigorous</th>\n",
       "      <th>Time in Moderate</th>\n",
       "      <th>% in Moderate</th>\n",
       "      <th>Time in Light</th>\n",
       "      <th>% in Light</th>\n",
       "      <th>Daily Average of Sedentary Bouts</th>\n",
       "      <th>Total Length of Sedentary Bouts</th>\n",
       "      <th>% in Sedentary</th>\n",
       "      <th>Average kcals per day</th>\n",
       "    </tr>\n",
       "  </thead>\n",
       "  <tbody>\n",
       "    <tr>\n",
       "      <th>3</th>\n",
       "      <td>498</td>\n",
       "      <td>6D 19H 58M 0S</td>\n",
       "      <td>7.0</td>\n",
       "      <td>1D 1H 33M 0S</td>\n",
       "      <td>3H 39M 0S</td>\n",
       "      <td>0S</td>\n",
       "      <td>0.00 %</td>\n",
       "      <td>1D 1H 33M 0S</td>\n",
       "      <td>15.58 %</td>\n",
       "      <td>2D 17H 2M 0S</td>\n",
       "      <td>39.66 %</td>\n",
       "      <td>6H 49M 34S</td>\n",
       "      <td>1D 23H 47M 0S</td>\n",
       "      <td>44.76 %</td>\n",
       "      <td>1728.773</td>\n",
       "    </tr>\n",
       "  </tbody>\n",
       "</table>\n",
       "</div>"
      ],
      "text/plain": [
       "  Subject           Time Calendar Days  Time in MVPA Average MVPA Per Day  \\\n",
       "3     498  6D 19H 58M 0S           7.0  1D 1H 33M 0S            3H 39M 0S   \n",
       "\n",
       "  Time in Vigorous % in Vigorous Time in Moderate % in Moderate Time in Light  \\\n",
       "3               0S        0.00 %     1D 1H 33M 0S       15.58 %  2D 17H 2M 0S   \n",
       "\n",
       "  % in Light Daily Average of Sedentary Bouts Total Length of Sedentary Bouts  \\\n",
       "3    39.66 %                       6H 49M 34S                   1D 23H 47M 0S   \n",
       "\n",
       "  % in Sedentary Average kcals per day  \n",
       "3        44.76 %              1728.773  "
      ]
     },
     "execution_count": 8,
     "metadata": {},
     "output_type": "execute_result"
    }
   ],
   "source": [
    "\n",
    "def create_df(sub):\n",
    "    sub = pd.DataFrame(sub)\n",
    "    if sub.shape[1] == 1:\n",
    "        sub = sub.T\n",
    "    \n",
    "    subject = sub['Subject Name']\n",
    "    mvpa_tot = sub['Time in MVPA']\n",
    "    mvpa_avg = sub['Average MVPA Per Day']\n",
    "    vig_tot = sub['Time in Vigorous']\n",
    "    vig_perc = sub['% in Vigorous']\n",
    "    mod_tot = sub['Time in Moderate']\n",
    "    mod_perc = sub['% in Moderate']\n",
    "    light_tot = sub['Time in Light']\n",
    "    light_perc = sub['% in Light']\n",
    "    sed_avg = sub['Daily Average of Sedentary Bouts']\n",
    "    sed_tot = sub['Total Length of Sedentary Bouts']\n",
    "    sed_perc = sub['% in Sedentary']\n",
    "    kcal_avg = sub['Average kcals per day']\n",
    "    cal_days = sub['Calendar Days']\n",
    "    time = sub['Time']\n",
    "\n",
    "\n",
    "    sub_data = pd.DataFrame({\n",
    "        'Subject': subject,\n",
    "        'Time': time,\n",
    "        'Calendar Days': cal_days,\n",
    "        'Time in MVPA': mvpa_tot,\n",
    "        'Average MVPA Per Day': mvpa_avg,\n",
    "        'Time in Vigorous': vig_tot,\n",
    "        '% in Vigorous': vig_perc,\n",
    "        'Time in Moderate': mod_tot,\n",
    "        '% in Moderate': mod_perc,\n",
    "        'Time in Light': light_tot,\n",
    "        '% in Light': light_perc,\n",
    "        'Daily Average of Sedentary Bouts': sed_avg,\n",
    "        'Total Length of Sedentary Bouts': sed_tot,\n",
    "        '% in Sedentary': sed_perc,\n",
    "        'Average kcals per day': kcal_avg\n",
    "    })\n",
    "    return sub_data\n",
    "\n",
    "sub_data = create_df(sub)\n",
    "sub_data"
   ]
  },
  {
   "cell_type": "markdown",
   "metadata": {},
   "source": []
  },
  {
   "cell_type": "code",
   "execution_count": 9,
   "metadata": {},
   "outputs": [
    {
     "name": "stderr",
     "output_type": "stream",
     "text": [
      "/var/folders/1w/l9hx8l952r57k_qmjhw7qc500000gn/T/ipykernel_70947/1558535768.py:9: SettingWithCopyWarning: \n",
      "A value is trying to be set on a copy of a slice from a DataFrame.\n",
      "Try using .loc[row_indexer,col_indexer] = value instead\n",
      "\n",
      "See the caveats in the documentation: https://pandas.pydata.org/pandas-docs/stable/user_guide/indexing.html#returning-a-view-versus-a-copy\n",
      "  percentage_df[col] = percentage_df[col].str.rstrip('%').astype('float') / 100\n"
     ]
    },
    {
     "data": {
      "image/png": "[encoded data removed]",
      "text/plain": [
       "<Figure size 864x504 with 1 Axes>"
      ]
     },
     "metadata": {
      "needs_background": "light"
     },
     "output_type": "display_data"
    }
   ],
   "source": [
    "required_columns = ['% in Sedentary', '% in Light', '% in Moderate', '% in Vigorous']\n",
    "    \n",
    "if all(col in sub.columns for col in required_columns):\n",
    "    # Prepare the data\n",
    "    percentage_df = sub[['% in Sedentary', '% in Light', '% in Moderate', '% in Vigorous']]\n",
    "    \n",
    "    # Turn the percentages into decimals\n",
    "    for col in percentage_df.columns:\n",
    "        percentage_df[col] = percentage_df[col].str.rstrip('%').astype('float') / 100\n",
    "    \n",
    "    # Set color palette using seaborn\n",
    "    sb.set_palette(\"viridis\", len(percentage_df.columns))\n",
    "\n",
    "    # Plot the stacked bar chart with seaborn colors\n",
    "    ax = percentage_df.plot(kind='bar', stacked=True, figsize=(12, 7), color=sb.color_palette(\"viridis\", len(percentage_df.columns)))\n",
    "\n",
    "    # Adding extra seaborn-style touches\n",
    "    plt.ylabel('Percentage of Time', fontsize=12)\n",
    "    plt.xlabel('Subject', fontsize=12)\n",
    "    plt.title('Percentage of Time Spent in Each Zone', fontsize=14)\n",
    "    plt.xticks(rotation=45, ha='right', ticks=[])  # Rotate x-axis labels for better readability\n",
    "    plt.legend(title='Intensity Zone', bbox_to_anchor=(1.05, 1), loc='upper left')\n",
    "    \n",
    "    # Add a grid for better visual clarity\n",
    "    sb.despine(left=True, bottom=True)\n",
    "    plt.tight_layout()\n",
    "    plt.show()"
   ]
  },
  {
   "cell_type": "code",
   "execution_count": 15,
   "metadata": {},
   "outputs": [
    {
     "data": {
      "text/plain": [
       "([<matplotlib.patches.Wedge at 0x3239a87f0>,\n",
       "  <matplotlib.patches.Wedge at 0x3239a8d30>,\n",
       "  <matplotlib.patches.Wedge at 0x323999490>,\n",
       "  <matplotlib.patches.Wedge at 0x323999bb0>],\n",
       " [Text(-1.0851288722446697, 0.1802646127807991, 'Sedentary'),\n",
       "  Text(0.8729691414016277, -0.6692719015172423, 'Light'),\n",
       "  Text(0.5171643358915319, 0.9708455333789567, 'Moderate'),\n",
       "  Text(-1.0298943237858331e-07, 1.0999999999999954, 'Vigorous')],\n",
       " [Text(-0.5918884757698198, 0.0983261524258904, '44.8%'),\n",
       "  Text(0.4761649862190696, -0.36505740082758664, '39.7%'),\n",
       "  Text(0.28208963775901735, 0.5295521091157945, '15.6%'),\n",
       "  Text(-5.6176054024681796e-08, 0.5999999999999974, '0.0%')])"
      ]
     },
     "execution_count": 15,
     "metadata": {},
     "output_type": "execute_result"
    },
    {
     "data": {
      "image/png": "[encoded data removed]",
      "text/plain": [
       "<Figure size 576x576 with 1 Axes>"
      ]
     },
     "metadata": {},
     "output_type": "display_data"
    }
   ],
   "source": [
    "#create a pie chart of percentage of time spent in each zone\n",
    "plt.figure(figsize=(8, 8))\n",
    "for col in sub_data[['% in Sedentary', '% in Light', '% in Moderate', '% in Vigorous']]:\n",
    "    sub_data[col] = sub_data[col].str.rstrip('%').astype('float') / 100\n",
    "plt.pie(sub_data[['% in Sedentary', '% in Light', '% in Moderate', '% in Vigorous']].iloc[0], labels=['Sedentary', 'Light', 'Moderate', 'Vigorous'], autopct='%1.1f%%', startangle=90)\n"
   ]
  },
  {
   "cell_type": "code",
   "execution_count": 22,
   "metadata": {},
   "outputs": [
    {
     "name": "stdout",
     "output_type": "stream",
     "text": [
      "Converting Time in MVPA...\n"
     ]
    },
    {
     "ename": "ValueError",
     "evalue": "Invalid time format: 1D 1H 33M 0S",
     "output_type": "error",
     "traceback": [
      "\u001b[0;31m---------------------------------------------------------------------------\u001b[0m",
      "\u001b[0;31mValueError\u001b[0m                                Traceback (most recent call last)",
      "Input \u001b[0;32mIn [22]\u001b[0m, in \u001b[0;36m<cell line: 20>\u001b[0;34m()\u001b[0m\n\u001b[1;32m     20\u001b[0m \u001b[38;5;28;01mfor\u001b[39;00m col \u001b[38;5;129;01min\u001b[39;00m sub_data[[\u001b[38;5;124m'\u001b[39m\u001b[38;5;124mTime in MVPA\u001b[39m\u001b[38;5;124m'\u001b[39m, \u001b[38;5;124m'\u001b[39m\u001b[38;5;124mTime in Vigorous\u001b[39m\u001b[38;5;124m'\u001b[39m, \u001b[38;5;124m'\u001b[39m\u001b[38;5;124mTime in Moderate\u001b[39m\u001b[38;5;124m'\u001b[39m, \u001b[38;5;124m'\u001b[39m\u001b[38;5;124mTime in Light\u001b[39m\u001b[38;5;124m'\u001b[39m]]:\n\u001b[1;32m     21\u001b[0m     \u001b[38;5;28mprint\u001b[39m(\u001b[38;5;124mf\u001b[39m\u001b[38;5;124m\"\u001b[39m\u001b[38;5;124mConverting \u001b[39m\u001b[38;5;132;01m{\u001b[39;00mcol\u001b[38;5;132;01m}\u001b[39;00m\u001b[38;5;124m...\u001b[39m\u001b[38;5;124m\"\u001b[39m)\n\u001b[0;32m---> 22\u001b[0m     sub_data[col] \u001b[38;5;241m=\u001b[39m \u001b[43msub_data\u001b[49m\u001b[43m[\u001b[49m\u001b[43mcol\u001b[49m\u001b[43m]\u001b[49m\u001b[38;5;241;43m.\u001b[39;49m\u001b[43mapply\u001b[49m\u001b[43m(\u001b[49m\u001b[43mconvert_to_seconds\u001b[49m\u001b[43m)\u001b[49m\n\u001b[1;32m     23\u001b[0m     \u001b[38;5;28mprint\u001b[39m(\u001b[38;5;124mf\u001b[39m\u001b[38;5;124m\"\u001b[39m\u001b[38;5;124mConverted \u001b[39m\u001b[38;5;132;01m{\u001b[39;00mcol\u001b[38;5;132;01m}\u001b[39;00m\u001b[38;5;124m to seconds.\u001b[39m\u001b[38;5;124m\"\u001b[39m)\n",
      "File \u001b[0;32m~/miniforge3/envs/tensorflow/lib/python3.8/site-packages/pandas/core/series.py:4433\u001b[0m, in \u001b[0;36mSeries.apply\u001b[0;34m(self, func, convert_dtype, args, **kwargs)\u001b[0m\n\u001b[1;32m   4323\u001b[0m \u001b[38;5;28;01mdef\u001b[39;00m \u001b[38;5;21mapply\u001b[39m(\n\u001b[1;32m   4324\u001b[0m     \u001b[38;5;28mself\u001b[39m,\n\u001b[1;32m   4325\u001b[0m     func: AggFuncType,\n\u001b[0;32m   (...)\u001b[0m\n\u001b[1;32m   4328\u001b[0m     \u001b[38;5;241m*\u001b[39m\u001b[38;5;241m*\u001b[39mkwargs,\n\u001b[1;32m   4329\u001b[0m ) \u001b[38;5;241m-\u001b[39m\u001b[38;5;241m>\u001b[39m DataFrame \u001b[38;5;241m|\u001b[39m Series:\n\u001b[1;32m   4330\u001b[0m     \u001b[38;5;124;03m\"\"\"\u001b[39;00m\n\u001b[1;32m   4331\u001b[0m \u001b[38;5;124;03m    Invoke function on values of Series.\u001b[39;00m\n\u001b[1;32m   4332\u001b[0m \n\u001b[0;32m   (...)\u001b[0m\n\u001b[1;32m   4431\u001b[0m \u001b[38;5;124;03m    dtype: float64\u001b[39;00m\n\u001b[1;32m   4432\u001b[0m \u001b[38;5;124;03m    \"\"\"\u001b[39;00m\n\u001b[0;32m-> 4433\u001b[0m     \u001b[38;5;28;01mreturn\u001b[39;00m \u001b[43mSeriesApply\u001b[49m\u001b[43m(\u001b[49m\u001b[38;5;28;43mself\u001b[39;49m\u001b[43m,\u001b[49m\u001b[43m \u001b[49m\u001b[43mfunc\u001b[49m\u001b[43m,\u001b[49m\u001b[43m \u001b[49m\u001b[43mconvert_dtype\u001b[49m\u001b[43m,\u001b[49m\u001b[43m \u001b[49m\u001b[43margs\u001b[49m\u001b[43m,\u001b[49m\u001b[43m \u001b[49m\u001b[43mkwargs\u001b[49m\u001b[43m)\u001b[49m\u001b[38;5;241;43m.\u001b[39;49m\u001b[43mapply\u001b[49m\u001b[43m(\u001b[49m\u001b[43m)\u001b[49m\n",
      "File \u001b[0;32m~/miniforge3/envs/tensorflow/lib/python3.8/site-packages/pandas/core/apply.py:1082\u001b[0m, in \u001b[0;36mSeriesApply.apply\u001b[0;34m(self)\u001b[0m\n\u001b[1;32m   1078\u001b[0m \u001b[38;5;28;01mif\u001b[39;00m \u001b[38;5;28misinstance\u001b[39m(\u001b[38;5;28mself\u001b[39m\u001b[38;5;241m.\u001b[39mf, \u001b[38;5;28mstr\u001b[39m):\n\u001b[1;32m   1079\u001b[0m     \u001b[38;5;66;03m# if we are a string, try to dispatch\u001b[39;00m\n\u001b[1;32m   1080\u001b[0m     \u001b[38;5;28;01mreturn\u001b[39;00m \u001b[38;5;28mself\u001b[39m\u001b[38;5;241m.\u001b[39mapply_str()\n\u001b[0;32m-> 1082\u001b[0m \u001b[38;5;28;01mreturn\u001b[39;00m \u001b[38;5;28;43mself\u001b[39;49m\u001b[38;5;241;43m.\u001b[39;49m\u001b[43mapply_standard\u001b[49m\u001b[43m(\u001b[49m\u001b[43m)\u001b[49m\n",
      "File \u001b[0;32m~/miniforge3/envs/tensorflow/lib/python3.8/site-packages/pandas/core/apply.py:1137\u001b[0m, in \u001b[0;36mSeriesApply.apply_standard\u001b[0;34m(self)\u001b[0m\n\u001b[1;32m   1131\u001b[0m         values \u001b[38;5;241m=\u001b[39m obj\u001b[38;5;241m.\u001b[39mastype(\u001b[38;5;28mobject\u001b[39m)\u001b[38;5;241m.\u001b[39m_values\n\u001b[1;32m   1132\u001b[0m         \u001b[38;5;66;03m# error: Argument 2 to \"map_infer\" has incompatible type\u001b[39;00m\n\u001b[1;32m   1133\u001b[0m         \u001b[38;5;66;03m# \"Union[Callable[..., Any], str, List[Union[Callable[..., Any], str]],\u001b[39;00m\n\u001b[1;32m   1134\u001b[0m         \u001b[38;5;66;03m# Dict[Hashable, Union[Union[Callable[..., Any], str],\u001b[39;00m\n\u001b[1;32m   1135\u001b[0m         \u001b[38;5;66;03m# List[Union[Callable[..., Any], str]]]]]\"; expected\u001b[39;00m\n\u001b[1;32m   1136\u001b[0m         \u001b[38;5;66;03m# \"Callable[[Any], Any]\"\u001b[39;00m\n\u001b[0;32m-> 1137\u001b[0m         mapped \u001b[38;5;241m=\u001b[39m \u001b[43mlib\u001b[49m\u001b[38;5;241;43m.\u001b[39;49m\u001b[43mmap_infer\u001b[49m\u001b[43m(\u001b[49m\n\u001b[1;32m   1138\u001b[0m \u001b[43m            \u001b[49m\u001b[43mvalues\u001b[49m\u001b[43m,\u001b[49m\n\u001b[1;32m   1139\u001b[0m \u001b[43m            \u001b[49m\u001b[43mf\u001b[49m\u001b[43m,\u001b[49m\u001b[43m  \u001b[49m\u001b[38;5;66;43;03m# type: ignore[arg-type]\u001b[39;49;00m\n\u001b[1;32m   1140\u001b[0m \u001b[43m            \u001b[49m\u001b[43mconvert\u001b[49m\u001b[38;5;241;43m=\u001b[39;49m\u001b[38;5;28;43mself\u001b[39;49m\u001b[38;5;241;43m.\u001b[39;49m\u001b[43mconvert_dtype\u001b[49m\u001b[43m,\u001b[49m\n\u001b[1;32m   1141\u001b[0m \u001b[43m        \u001b[49m\u001b[43m)\u001b[49m\n\u001b[1;32m   1143\u001b[0m \u001b[38;5;28;01mif\u001b[39;00m \u001b[38;5;28mlen\u001b[39m(mapped) \u001b[38;5;129;01mand\u001b[39;00m \u001b[38;5;28misinstance\u001b[39m(mapped[\u001b[38;5;241m0\u001b[39m], ABCSeries):\n\u001b[1;32m   1144\u001b[0m     \u001b[38;5;66;03m# GH#43986 Need to do list(mapped) in order to get treated as nested\u001b[39;00m\n\u001b[1;32m   1145\u001b[0m     \u001b[38;5;66;03m#  See also GH#25959 regarding EA support\u001b[39;00m\n\u001b[1;32m   1146\u001b[0m     \u001b[38;5;28;01mreturn\u001b[39;00m obj\u001b[38;5;241m.\u001b[39m_constructor_expanddim(\u001b[38;5;28mlist\u001b[39m(mapped), index\u001b[38;5;241m=\u001b[39mobj\u001b[38;5;241m.\u001b[39mindex)\n",
      "File \u001b[0;32m~/miniforge3/envs/tensorflow/lib/python3.8/site-packages/pandas/_libs/lib.pyx:2870\u001b[0m, in \u001b[0;36mpandas._libs.lib.map_infer\u001b[0;34m()\u001b[0m\n",
      "Input \u001b[0;32mIn [22]\u001b[0m, in \u001b[0;36mconvert_to_seconds\u001b[0;34m(time_str)\u001b[0m\n\u001b[1;32m      6\u001b[0m match \u001b[38;5;241m=\u001b[39m re\u001b[38;5;241m.\u001b[39mmatch(pattern, time_str)\n\u001b[1;32m      8\u001b[0m \u001b[38;5;28;01mif\u001b[39;00m \u001b[38;5;129;01mnot\u001b[39;00m match:\n\u001b[0;32m----> 9\u001b[0m     \u001b[38;5;28;01mraise\u001b[39;00m \u001b[38;5;167;01mValueError\u001b[39;00m(\u001b[38;5;124mf\u001b[39m\u001b[38;5;124m\"\u001b[39m\u001b[38;5;124mInvalid time format: \u001b[39m\u001b[38;5;132;01m{\u001b[39;00mtime_str\u001b[38;5;132;01m}\u001b[39;00m\u001b[38;5;124m\"\u001b[39m)\n\u001b[1;32m     11\u001b[0m days \u001b[38;5;241m=\u001b[39m \u001b[38;5;28mint\u001b[39m(match\u001b[38;5;241m.\u001b[39mgroup(\u001b[38;5;241m1\u001b[39m)) \u001b[38;5;28;01mif\u001b[39;00m match\u001b[38;5;241m.\u001b[39mgroup(\u001b[38;5;241m1\u001b[39m) \u001b[38;5;28;01melse\u001b[39;00m \u001b[38;5;241m0\u001b[39m\n\u001b[1;32m     12\u001b[0m hours \u001b[38;5;241m=\u001b[39m \u001b[38;5;28mint\u001b[39m(match\u001b[38;5;241m.\u001b[39mgroup(\u001b[38;5;241m2\u001b[39m)) \u001b[38;5;28;01mif\u001b[39;00m match\u001b[38;5;241m.\u001b[39mgroup(\u001b[38;5;241m2\u001b[39m) \u001b[38;5;28;01melse\u001b[39;00m \u001b[38;5;241m0\u001b[39m\n",
      "\u001b[0;31mValueError\u001b[0m: Invalid time format: 1D 1H 33M 0S"
     ]
    }
   ],
   "source": [
    "sub_data.columns\n",
    "import re\n",
    "def convert_to_seconds(time_str):\n",
    "    # Use regular expression to capture days, hours, minutes, and seconds\n",
    "    pattern = r'(?:(\\d+)D)?\\.(?:(\\d+)H)?\\.(?:(\\d+)M)?\\.(?:(\\d+)S)?'\n",
    "    match = re.match(pattern, time_str)\n",
    "    \n",
    "    if not match:\n",
    "        raise ValueError(f\"Invalid time format: {time_str}\")\n",
    "\n",
    "    days = int(match.group(1)) if match.group(1) else 0\n",
    "    hours = int(match.group(2)) if match.group(2) else 0\n",
    "    minutes = int(match.group(3)) if match.group(3) else 0\n",
    "    seconds = int(match.group(4)) if match.group(4) else 0\n",
    "\n",
    "    total_seconds = days * 86400 + hours * 3600 + minutes * 60 + seconds\n",
    "    return total_seconds\n",
    "\n",
    "# Example usage\n",
    "for col in sub_data[['Time in MVPA', 'Time in Vigorous', 'Time in Moderate', 'Time in Light']]:\n",
    "    print(f\"Converting {col}...\")\n",
    "    sub_data[col] = sub_data[col].apply(convert_to_seconds)\n",
    "    print(f\"Converted {col} to seconds.\")"
   ]
  },
  {
   "cell_type": "code",
   "execution_count": 19,
   "metadata": {},
   "outputs": [
    {
     "ename": "NameError",
     "evalue": "name 'subject' is not defined",
     "output_type": "error",
     "traceback": [
      "\u001b[0;31m---------------------------------------------------------------------------\u001b[0m",
      "\u001b[0;31mNameError\u001b[0m                                 Traceback (most recent call last)",
      "Input \u001b[0;32mIn [19]\u001b[0m, in \u001b[0;36m<cell line: 10>\u001b[0;34m()\u001b[0m\n\u001b[1;32m      8\u001b[0m pdf\u001b[38;5;241m.\u001b[39mcell(\u001b[38;5;241m200\u001b[39m, \u001b[38;5;241m10\u001b[39m, text\u001b[38;5;241m=\u001b[39m\u001b[38;5;124m\"\u001b[39m\u001b[38;5;124mActivity Report\u001b[39m\u001b[38;5;124m\"\u001b[39m, align \u001b[38;5;241m=\u001b[39m \u001b[38;5;124m'\u001b[39m\u001b[38;5;124mC\u001b[39m\u001b[38;5;124m'\u001b[39m)\n\u001b[1;32m      9\u001b[0m pdf\u001b[38;5;241m.\u001b[39mset_font(\u001b[38;5;124m\"\u001b[39m\u001b[38;5;124mhelvetica\u001b[39m\u001b[38;5;124m\"\u001b[39m, size \u001b[38;5;241m=\u001b[39m \u001b[38;5;241m30\u001b[39m)\n\u001b[0;32m---> 10\u001b[0m pdf\u001b[38;5;241m.\u001b[39mcell(\u001b[38;5;241m200\u001b[39m, \u001b[38;5;241m10\u001b[39m, text\u001b[38;5;241m=\u001b[39m\u001b[38;5;124m\"\u001b[39m\u001b[38;5;124mSubject: \u001b[39m\u001b[38;5;124m\"\u001b[39m \u001b[38;5;241m+\u001b[39m \u001b[43msubject\u001b[49m, align \u001b[38;5;241m=\u001b[39m \u001b[38;5;124m'\u001b[39m\u001b[38;5;124mC\u001b[39m\u001b[38;5;124m'\u001b[39m,)\n\u001b[1;32m     12\u001b[0m pdf\u001b[38;5;241m.\u001b[39moutput(\u001b[38;5;124m'\u001b[39m\u001b[38;5;124m../out/report-tests/activity-report.pdf\u001b[39m\u001b[38;5;124m'\u001b[39m)\n",
      "\u001b[0;31mNameError\u001b[0m: name 'subject' is not defined"
     ]
    }
   ],
   "source": [
    "#Create PDF\n",
    "import warnings\n",
    "warnings.simplefilter('default', DeprecationWarning)\n",
    "\n",
    "pdf = FPDF(orientation=\"P\", unit=\"mm\", format=\"A4\")\n",
    "pdf.add_page()\n",
    "pdf.set_font(\"helvetica\", size = 50)\n",
    "pdf.cell(200, 10, text=\"Activity Report\", align = 'C')\n",
    "pdf.set_font(\"helvetica\", size = 30)\n",
    "pdf.cell(200, 10, text=\"Subject: \" + subject, align = 'C',)\n",
    "\n",
    "pdf.output('../out/report-tests/activity-report.pdf')"
   ]
  },
  {
   "cell_type": "code",
   "execution_count": null,
   "metadata": {},
   "outputs": [],
   "source": []
  }
 ],
 "metadata": {
  "kernelspec": {
   "display_name": "tensorflow",
   "language": "python",
   "name": "python3"
  },
  "language_info": {
   "codemirror_mode": {
    "name": "ipython",
    "version": 3
   },
   "file_extension": ".py",
   "mimetype": "text/x-python",
   "name": "python",
   "nbconvert_exporter": "python",
   "pygments_lexer": "ipython3",
   "version": "3.8.13"
  }
 },
 "nbformat": 4,
 "nbformat_minor": 2
}
